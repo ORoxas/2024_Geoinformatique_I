{
  "cells": [
    {
      "cell_type": "markdown",
      "metadata": {
        "id": "view-in-github",
        "colab_type": "text"
      },
      "source": [
        "<a href=\"https://colab.research.google.com/github/ORoxas/2024_Geoinformatique_I/blob/main/Geoinformatique_I/IP/Exercices_IP/S2_IP_exercice.ipynb\" target=\"_parent\"><img src=\"https://colab.research.google.com/assets/colab-badge.svg\" alt=\"Open In Colab\"/></a>"
      ]
    },
    {
      "cell_type": "markdown",
      "metadata": {
        "id": "ZXnjONpwCaJ5"
      },
      "source": [
        "# Exercice 2 - Structure de contrôle"
      ]
    },
    {
      "cell_type": "markdown",
      "metadata": {
        "id": "OyMIBjQrCaJ6"
      },
      "source": [
        "## Conditions if, else, elif"
      ]
    },
    {
      "cell_type": "markdown",
      "metadata": {
        "id": "caKuJ59zjW39"
      },
      "source": [
        "**1. Vérification de la parité**"
      ]
    },
    {
      "cell_type": "code",
      "execution_count": 2,
      "metadata": {
        "id": "wkrwV1yvjW3-",
        "outputId": "63ff53c2-740e-4cbb-fc94-4d3a56ba3248",
        "colab": {
          "base_uri": "https://localhost:8080/"
        }
      },
      "outputs": [
        {
          "output_type": "stream",
          "name": "stdout",
          "text": [
            "Impaire\n"
          ]
        }
      ],
      "source": [
        "# Ecrivez votre code ici\n",
        "nombre = 99 #Entrez un nombre entier\n",
        "\n",
        "if nombre % 2 == 0 :\n",
        "    print(\"Pair\")\n",
        "else:\n",
        "    print(\"Impaire\")"
      ]
    },
    {
      "cell_type": "markdown",
      "metadata": {
        "id": "b1goU-5bjW3_"
      },
      "source": [
        "**2. Comparaison de deux nombres**"
      ]
    },
    {
      "cell_type": "code",
      "execution_count": 3,
      "metadata": {
        "id": "SkjaBcb-jW3_",
        "outputId": "08671701-42d3-405b-d7e2-254b3c561470",
        "colab": {
          "base_uri": "https://localhost:8080/"
        }
      },
      "outputs": [
        {
          "output_type": "stream",
          "name": "stdout",
          "text": [
            "Le deuxième nombre est plus grand.\n"
          ]
        }
      ],
      "source": [
        "nombre1 = 3.12 #Entrez un chiffre à virgule\n",
        "nombre2 = 4.72 #Entrez un deuxième chiffre à virgule\n",
        "\n",
        "if nombre1 > nombre2 :\n",
        "    print(\"Le premier nombre est plus grand.\")\n",
        "elif nombre2 > nombre1:\n",
        "    print(\"Le deuxième nombre est plus grand.\")\n",
        "else:\n",
        "    print(\"Les deux nombres sont égaux\")"
      ]
    },
    {
      "cell_type": "markdown",
      "metadata": {
        "id": "gkNLNNSNjW3_"
      },
      "source": [
        "**3. Catégorisation d'âges**"
      ]
    },
    {
      "cell_type": "code",
      "execution_count": 4,
      "metadata": {
        "id": "h1AnFjiKjW4A",
        "outputId": "16f978c3-0703-4418-e418-b791cf60af38",
        "colab": {
          "base_uri": "https://localhost:8080/"
        }
      },
      "outputs": [
        {
          "output_type": "stream",
          "name": "stdout",
          "text": [
            "Adulte\n"
          ]
        }
      ],
      "source": [
        "age = 22 # Entrez un nombre entier\n",
        "if age < 12:\n",
        "    print(\"Enfant\")\n",
        "elif 12 <= age < 18:\n",
        "    print(\"Adolescent\")\n",
        "elif 18 <= age < 65:\n",
        "    print(\"Adulte\")\n",
        "else:\n",
        "    print(\"Senior\")\n"
      ]
    },
    {
      "cell_type": "markdown",
      "metadata": {
        "id": "agjI6dl_CaJ7"
      },
      "source": [
        "## Boucle for et while"
      ]
    },
    {
      "cell_type": "markdown",
      "metadata": {
        "id": "jbGswyVvjW4A"
      },
      "source": [
        "**1. Ecrire une boucle `while` pour afficher les valeurs des classements d'une liste de lecture d'albums stockée dans la liste <code>PlayListRatings</code>. Si le score est inférieur à 6, on sort de la boucle. La liste <code>PlayListRatings</code> est donnée par : <code>PlayListRatings = [10, 9.5, 10, 8, 7.5, 5, 10, 10]</code>**"
      ]
    },
    {
      "cell_type": "code",
      "execution_count": 18,
      "metadata": {
        "id": "ploHyFu2jW4A",
        "outputId": "e4201807-a030-44e5-d84a-5b72b5463325",
        "colab": {
          "base_uri": "https://localhost:8080/"
        }
      },
      "outputs": [
        {
          "output_type": "stream",
          "name": "stdout",
          "text": [
            "10\n",
            "9.5\n",
            "10\n"
          ]
        }
      ],
      "source": [
        "PlayListRatings = [10, 9.5, 10, 3, 7.5, 7, 8, 10]\n",
        "i = 0\n",
        "while i<len(PlayListRatings) :\n",
        "    if PlayListRatings[i]>6 :\n",
        "        print(PlayListRatings[i])\n",
        "    else :\n",
        "        break\n",
        "    i += 1\n"
      ]
    },
    {
      "cell_type": "markdown",
      "metadata": {
        "id": "WHXaD4_3jW4A"
      },
      "source": [
        "**2. Répétez ce que vous venez de faire, cette fois en utilisant une boucle `for`**."
      ]
    },
    {
      "cell_type": "code",
      "execution_count": 10,
      "metadata": {
        "id": "CIgtC_4zjW4A",
        "outputId": "fd3be08d-cf9b-4f62-bbab-55f9e963602a",
        "colab": {
          "base_uri": "https://localhost:8080/"
        }
      },
      "outputs": [
        {
          "output_type": "stream",
          "name": "stdout",
          "text": [
            "10\n",
            "9.5\n",
            "10\n",
            "8\n",
            "7.5\n",
            "9\n",
            "10\n"
          ]
        }
      ],
      "source": [
        "PlayListRatings = [10, 9.5, 10, 8, 7.5, 9, 10, 3]\n",
        "\n",
        "for i in range(len(PlayListRatings)) :\n",
        "    if PlayListRatings[i]<6 :\n",
        "        break\n",
        "    print(PlayListRatings[i])"
      ]
    },
    {
      "cell_type": "markdown",
      "metadata": {
        "id": "VZQhdaf5jW4B"
      },
      "source": [
        "**3. Ecrivez une boucle `for` qui imprime (affiche) la liste suivante : <code>carres=['rouge', 'jaune', 'vert', 'violet', 'bleu']</code>**"
      ]
    },
    {
      "cell_type": "code",
      "execution_count": 22,
      "metadata": {
        "id": "kh8TmInPjW4B",
        "outputId": "b810dfc5-f246-4ae2-ed45-2ca99dc5c85f",
        "colab": {
          "base_uri": "https://localhost:8080/"
        }
      },
      "outputs": [
        {
          "output_type": "stream",
          "name": "stdout",
          "text": [
            "['rouge', 'jaune', 'vert', 'violet', 'bleu']\n"
          ]
        }
      ],
      "source": [
        "carres=[]\n",
        "for i, index in enumerate(['rouge', 'jaune', 'vert', 'violet', 'bleu']) :\n",
        "      carres.append(index)\n",
        "print(carres)"
      ]
    }
  ],
  "metadata": {
    "colab": {
      "provenance": [],
      "include_colab_link": true
    },
    "kernelspec": {
      "display_name": "imports_TM",
      "language": "python",
      "name": "python3"
    },
    "language_info": {
      "name": "python",
      "version": "3.9.18"
    }
  },
  "nbformat": 4,
  "nbformat_minor": 0
}